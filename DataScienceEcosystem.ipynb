{
 "cells": [
  {
   "cell_type": "markdown",
   "id": "b53c8bbe-6f98-480c-b89a-dc5301155591",
   "metadata": {},
   "source": [
    "# Data Science Tools and Ecosystem\n"
   ]
  },
  {
   "cell_type": "markdown",
   "id": "c82fb7a5-a6dc-4eab-8bec-c36234c13e29",
   "metadata": {},
   "source": [
    "# Data Science Tools and Ecosystem\n"
   ]
  },
  {
   "cell_type": "code",
   "execution_count": null,
   "id": "16aaf567-80d9-4376-b93c-9f0664e136e1",
   "metadata": {},
   "outputs": [],
   "source": [
    "In this notebook, Data Science Tools and Ecosystem are summarized.\n"
   ]
  },
  {
   "cell_type": "markdown",
   "id": "4a827043-c3e3-4829-8d58-f8a4ff538021",
   "metadata": {},
   "source": [
    "In this notebook, Data Science Tools and Ecosystem are summarized.\n"
   ]
  },
  {
   "cell_type": "code",
   "execution_count": null,
   "id": "6315ebd1-f9f0-4974-b651-c4583d20609f",
   "metadata": {},
   "outputs": [],
   "source": [
    "Some of the popular languages that Data Scientists use are:\n",
    "1. Python\n",
    "2. R\n",
    "3. SQL\n",
    "4. Julia\n",
    "5. Java\n"
   ]
  },
  {
   "cell_type": "markdown",
   "id": "6f0c5e2d-9be7-49e3-867e-f7cde7e50632",
   "metadata": {},
   "source": [
    "Some of the popular languages that Data Scientists use are:\n",
    "1. Python\n",
    "2. R\n",
    "3. SQL\n",
    "4. Julia\n",
    "5. Java\n"
   ]
  },
  {
   "cell_type": "code",
   "execution_count": null,
   "id": "fd89c6f7-4837-4aa2-a677-d01eb01ee086",
   "metadata": {},
   "outputs": [],
   "source": [
    "Some of the commonly used libraries used by Data Scientists include:\n",
    "1. NumPy\n",
    "2. Pandas\n",
    "3. Matplotlib\n",
    "4. TensorFlow\n",
    "5. Scikit-learn\n"
   ]
  },
  {
   "cell_type": "markdown",
   "id": "e4782cb2-c24c-4148-b016-068b074b97e3",
   "metadata": {},
   "source": [
    "Some of the commonly used libraries used by Data Scientists include:\n",
    "1. NumPy\n",
    "2. Pandas\n",
    "3. Matplotlib\n",
    "4. TensorFlow\n",
    "5. Scikit-learn\n"
   ]
  },
  {
   "cell_type": "markdown",
   "id": "7ae36ff7-38bd-4144-b6b0-244c01aa9798",
   "metadata": {},
   "source": [
    "| Data Science Tools |\n",
    "|--------------------|\n",
    "| Jupyter Notebook  |\n",
    "| RStudio           |\n",
    "| Apache Zeppelin   |\n"
   ]
  },
  {
   "cell_type": "markdown",
   "id": "2c5106ed-424f-44d7-a62c-a75d1646484f",
   "metadata": {},
   "source": [
    "| Data Science Tools |\n",
    "|--------------------|\n",
    "| Jupyter Notebook  |\n",
    "| RStudio           |\n",
    "| Apache Zeppelin   |\n"
   ]
  },
  {
   "cell_type": "markdown",
   "id": "cdc86d87-4f71-48ad-815e-a4a5b2d733fb",
   "metadata": {},
   "source": [
    "### Below are a few examples of evaluating arithmetic expressions in Python.\n"
   ]
  },
  {
   "cell_type": "markdown",
   "id": "451ff3ae-6387-4d59-9934-14efeb080c92",
   "metadata": {},
   "source": [
    "### Below are a few examples of evaluating arithmetic expressions in Python.\n"
   ]
  },
  {
   "cell_type": "code",
   "execution_count": 5,
   "id": "404181f3-b9d9-4969-a35a-c5b4658a6b6d",
   "metadata": {},
   "outputs": [
    {
     "data": {
      "text/plain": [
       "17"
      ]
     },
     "execution_count": 5,
     "metadata": {},
     "output_type": "execute_result"
    }
   ],
   "source": [
    "# This is a simple arithmetic expression to multiply then add integers.\n",
    "(3*4) + 5\n"
   ]
  },
  {
   "cell_type": "markdown",
   "id": "dfc1a9f1-4b53-42f3-84ad-8e5fdeaa34d5",
   "metadata": {},
   "source": []
  },
  {
   "cell_type": "code",
   "execution_count": 6,
   "id": "8d603097-d730-4b84-a9ee-615a72962a19",
   "metadata": {},
   "outputs": [
    {
     "data": {
      "text/plain": [
       "3.3333333333333335"
      ]
     },
     "execution_count": 6,
     "metadata": {},
     "output_type": "execute_result"
    }
   ],
   "source": [
    "# This will convert 200 minutes to hours by dividing by 60.\n",
    "200 / 60"
   ]
  },
  {
   "cell_type": "markdown",
   "id": "854e338c-6dce-421b-b75d-6d59f1cfcecb",
   "metadata": {},
   "source": [
    "**Objectives:**\n",
    "- List popular languages for Data Science\n",
    "- Identify commonly used libraries in Data Science\n",
    "- Understand Data Science tools and environments\n",
    "- Perform basic arithmetic operations in Python\n",
    "- Convert minutes into hours using Python\n"
   ]
  },
  {
   "cell_type": "markdown",
   "id": "fdbdc62e-4134-4dce-b8cf-36b5407d75b8",
   "metadata": {},
   "source": [
    "**Objectives:**\n",
    "- List popular languages for Data Science\n",
    "- Identify commonly used libraries in Data Science\n",
    "- Understand Data Science tools and environments\n",
    "- Perform basic arithmetic operations in Python\n",
    "- Convert minutes into hours using Python\n"
   ]
  },
  {
   "cell_type": "markdown",
   "id": "649b1520-c057-42da-91d9-e6fcf627f99f",
   "metadata": {},
   "source": [
    "## Author  \n",
    "  Muhammad Ismail\n"
   ]
  },
  {
   "cell_type": "markdown",
   "id": "802f64d2-eb93-4969-9fad-8d04ea4e4d6c",
   "metadata": {},
   "source": [
    "## Author  \n",
    "Muhammad Ismail\n"
   ]
  }
 ],
 "metadata": {
  "kernelspec": {
   "display_name": "Python 3 (ipykernel)",
   "language": "python",
   "name": "python3"
  },
  "language_info": {
   "codemirror_mode": {
    "name": "ipython",
    "version": 3
   },
   "file_extension": ".py",
   "mimetype": "text/x-python",
   "name": "python",
   "nbconvert_exporter": "python",
   "pygments_lexer": "ipython3",
   "version": "3.12.9"
  }
 },
 "nbformat": 4,
 "nbformat_minor": 5
}
